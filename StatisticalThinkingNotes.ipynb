{
 "cells": [
  {
   "cell_type": "markdown",
   "metadata": {},
   "source": [
    "# Notes for Statistical Thinking in Python\n",
    "I found this course not as easy step-by-step as the previous 2 courses.  I thought I would add these notes to offer some support. Don't stress out or get frustrated. We will just do this one step at a time. \n",
    "\n",
    "# Chapter 1: Graphical Exploratory Data Analysis\n",
    "He uses the term EDA (Exploratory Data Analysis.\n",
    "\n",
    "Before we get into any explantations, let's load the swing state data:"
   ]
  },
  {
   "cell_type": "code",
   "execution_count": 1,
   "metadata": {},
   "outputs": [
    {
     "data": {
      "text/html": [
       "<div>\n",
       "<style>\n",
       "    .dataframe thead tr:only-child th {\n",
       "        text-align: right;\n",
       "    }\n",
       "\n",
       "    .dataframe thead th {\n",
       "        text-align: left;\n",
       "    }\n",
       "\n",
       "    .dataframe tbody tr th {\n",
       "        vertical-align: top;\n",
       "    }\n",
       "</style>\n",
       "<table border=\"1\" class=\"dataframe\">\n",
       "  <thead>\n",
       "    <tr style=\"text-align: right;\">\n",
       "      <th></th>\n",
       "      <th>state</th>\n",
       "      <th>county</th>\n",
       "      <th>total_votes</th>\n",
       "      <th>dem_votes</th>\n",
       "      <th>rep_votes</th>\n",
       "      <th>dem_share</th>\n",
       "    </tr>\n",
       "  </thead>\n",
       "  <tbody>\n",
       "    <tr>\n",
       "      <th>0</th>\n",
       "      <td>PA</td>\n",
       "      <td>Erie County</td>\n",
       "      <td>127691</td>\n",
       "      <td>75775</td>\n",
       "      <td>50351</td>\n",
       "      <td>60.08</td>\n",
       "    </tr>\n",
       "    <tr>\n",
       "      <th>1</th>\n",
       "      <td>PA</td>\n",
       "      <td>Bradford County</td>\n",
       "      <td>25787</td>\n",
       "      <td>10306</td>\n",
       "      <td>15057</td>\n",
       "      <td>40.64</td>\n",
       "    </tr>\n",
       "    <tr>\n",
       "      <th>2</th>\n",
       "      <td>PA</td>\n",
       "      <td>Tioga County</td>\n",
       "      <td>17984</td>\n",
       "      <td>6390</td>\n",
       "      <td>11326</td>\n",
       "      <td>36.07</td>\n",
       "    </tr>\n",
       "    <tr>\n",
       "      <th>3</th>\n",
       "      <td>PA</td>\n",
       "      <td>McKean County</td>\n",
       "      <td>15947</td>\n",
       "      <td>6465</td>\n",
       "      <td>9224</td>\n",
       "      <td>41.21</td>\n",
       "    </tr>\n",
       "    <tr>\n",
       "      <th>4</th>\n",
       "      <td>PA</td>\n",
       "      <td>Potter County</td>\n",
       "      <td>7507</td>\n",
       "      <td>2300</td>\n",
       "      <td>5109</td>\n",
       "      <td>31.04</td>\n",
       "    </tr>\n",
       "    <tr>\n",
       "      <th>5</th>\n",
       "      <td>PA</td>\n",
       "      <td>Wayne County</td>\n",
       "      <td>22835</td>\n",
       "      <td>9892</td>\n",
       "      <td>12702</td>\n",
       "      <td>43.78</td>\n",
       "    </tr>\n",
       "    <tr>\n",
       "      <th>6</th>\n",
       "      <td>PA</td>\n",
       "      <td>Susquehanna County</td>\n",
       "      <td>19286</td>\n",
       "      <td>8381</td>\n",
       "      <td>10633</td>\n",
       "      <td>44.08</td>\n",
       "    </tr>\n",
       "    <tr>\n",
       "      <th>7</th>\n",
       "      <td>PA</td>\n",
       "      <td>Warren County</td>\n",
       "      <td>18517</td>\n",
       "      <td>8537</td>\n",
       "      <td>9685</td>\n",
       "      <td>46.85</td>\n",
       "    </tr>\n",
       "    <tr>\n",
       "      <th>8</th>\n",
       "      <td>OH</td>\n",
       "      <td>Ashtabula County</td>\n",
       "      <td>44874</td>\n",
       "      <td>25027</td>\n",
       "      <td>18949</td>\n",
       "      <td>56.94</td>\n",
       "    </tr>\n",
       "    <tr>\n",
       "      <th>9</th>\n",
       "      <td>OH</td>\n",
       "      <td>Lake County</td>\n",
       "      <td>121335</td>\n",
       "      <td>60155</td>\n",
       "      <td>59142</td>\n",
       "      <td>50.46</td>\n",
       "    </tr>\n",
       "    <tr>\n",
       "      <th>10</th>\n",
       "      <td>PA</td>\n",
       "      <td>Crawford County</td>\n",
       "      <td>38134</td>\n",
       "      <td>16780</td>\n",
       "      <td>20750</td>\n",
       "      <td>44.71</td>\n",
       "    </tr>\n",
       "    <tr>\n",
       "      <th>11</th>\n",
       "      <td>OH</td>\n",
       "      <td>Lucas County</td>\n",
       "      <td>219830</td>\n",
       "      <td>142852</td>\n",
       "      <td>73706</td>\n",
       "      <td>65.99</td>\n",
       "    </tr>\n",
       "    <tr>\n",
       "      <th>12</th>\n",
       "      <td>OH</td>\n",
       "      <td>Fulton County</td>\n",
       "      <td>21973</td>\n",
       "      <td>9900</td>\n",
       "      <td>11689</td>\n",
       "      <td>45.88</td>\n",
       "    </tr>\n",
       "    <tr>\n",
       "      <th>13</th>\n",
       "      <td>OH</td>\n",
       "      <td>Geauga County</td>\n",
       "      <td>51102</td>\n",
       "      <td>21250</td>\n",
       "      <td>29096</td>\n",
       "      <td>42.23</td>\n",
       "    </tr>\n",
       "    <tr>\n",
       "      <th>14</th>\n",
       "      <td>OH</td>\n",
       "      <td>Williams County</td>\n",
       "      <td>18397</td>\n",
       "      <td>8174</td>\n",
       "      <td>9880</td>\n",
       "      <td>45.26</td>\n",
       "    </tr>\n",
       "    <tr>\n",
       "      <th>15</th>\n",
       "      <td>PA</td>\n",
       "      <td>Wyoming County</td>\n",
       "      <td>13138</td>\n",
       "      <td>5985</td>\n",
       "      <td>6983</td>\n",
       "      <td>46.15</td>\n",
       "    </tr>\n",
       "    <tr>\n",
       "      <th>16</th>\n",
       "      <td>PA</td>\n",
       "      <td>Lackawanna County</td>\n",
       "      <td>107876</td>\n",
       "      <td>67520</td>\n",
       "      <td>39488</td>\n",
       "      <td>63.10</td>\n",
       "    </tr>\n",
       "    <tr>\n",
       "      <th>17</th>\n",
       "      <td>PA</td>\n",
       "      <td>Elk County</td>\n",
       "      <td>14271</td>\n",
       "      <td>7290</td>\n",
       "      <td>6676</td>\n",
       "      <td>52.20</td>\n",
       "    </tr>\n",
       "    <tr>\n",
       "      <th>18</th>\n",
       "      <td>PA</td>\n",
       "      <td>Forest County</td>\n",
       "      <td>2444</td>\n",
       "      <td>1038</td>\n",
       "      <td>1366</td>\n",
       "      <td>43.18</td>\n",
       "    </tr>\n",
       "    <tr>\n",
       "      <th>19</th>\n",
       "      <td>PA</td>\n",
       "      <td>Venango County</td>\n",
       "      <td>23307</td>\n",
       "      <td>9238</td>\n",
       "      <td>13718</td>\n",
       "      <td>40.24</td>\n",
       "    </tr>\n",
       "    <tr>\n",
       "      <th>20</th>\n",
       "      <td>OH</td>\n",
       "      <td>Erie County</td>\n",
       "      <td>41229</td>\n",
       "      <td>23148</td>\n",
       "      <td>17432</td>\n",
       "      <td>57.01</td>\n",
       "    </tr>\n",
       "    <tr>\n",
       "      <th>21</th>\n",
       "      <td>OH</td>\n",
       "      <td>Wood County</td>\n",
       "      <td>65022</td>\n",
       "      <td>34285</td>\n",
       "      <td>29648</td>\n",
       "      <td>53.61</td>\n",
       "    </tr>\n",
       "    <tr>\n",
       "      <th>22</th>\n",
       "      <td>PA</td>\n",
       "      <td>Cameron County</td>\n",
       "      <td>2245</td>\n",
       "      <td>879</td>\n",
       "      <td>1323</td>\n",
       "      <td>39.92</td>\n",
       "    </tr>\n",
       "    <tr>\n",
       "      <th>23</th>\n",
       "      <td>PA</td>\n",
       "      <td>Pike County</td>\n",
       "      <td>24284</td>\n",
       "      <td>11493</td>\n",
       "      <td>12518</td>\n",
       "      <td>47.87</td>\n",
       "    </tr>\n",
       "    <tr>\n",
       "      <th>24</th>\n",
       "      <td>PA</td>\n",
       "      <td>Lycoming County</td>\n",
       "      <td>49237</td>\n",
       "      <td>18381</td>\n",
       "      <td>30280</td>\n",
       "      <td>37.77</td>\n",
       "    </tr>\n",
       "    <tr>\n",
       "      <th>25</th>\n",
       "      <td>PA</td>\n",
       "      <td>Sullivan County</td>\n",
       "      <td>3120</td>\n",
       "      <td>1233</td>\n",
       "      <td>1841</td>\n",
       "      <td>40.11</td>\n",
       "    </tr>\n",
       "    <tr>\n",
       "      <th>26</th>\n",
       "      <td>OH</td>\n",
       "      <td>Lorain County</td>\n",
       "      <td>146859</td>\n",
       "      <td>85276</td>\n",
       "      <td>59068</td>\n",
       "      <td>59.10</td>\n",
       "    </tr>\n",
       "    <tr>\n",
       "      <th>27</th>\n",
       "      <td>OH</td>\n",
       "      <td>Trumbull County</td>\n",
       "      <td>106911</td>\n",
       "      <td>64145</td>\n",
       "      <td>40164</td>\n",
       "      <td>61.48</td>\n",
       "    </tr>\n",
       "    <tr>\n",
       "      <th>28</th>\n",
       "      <td>PA</td>\n",
       "      <td>Mercer County</td>\n",
       "      <td>53821</td>\n",
       "      <td>26411</td>\n",
       "      <td>26565</td>\n",
       "      <td>49.85</td>\n",
       "    </tr>\n",
       "    <tr>\n",
       "      <th>29</th>\n",
       "      <td>OH</td>\n",
       "      <td>Henry County</td>\n",
       "      <td>14840</td>\n",
       "      <td>6320</td>\n",
       "      <td>8239</td>\n",
       "      <td>43.43</td>\n",
       "    </tr>\n",
       "    <tr>\n",
       "      <th>...</th>\n",
       "      <td>...</td>\n",
       "      <td>...</td>\n",
       "      <td>...</td>\n",
       "      <td>...</td>\n",
       "      <td>...</td>\n",
       "      <td>...</td>\n",
       "    </tr>\n",
       "    <tr>\n",
       "      <th>192</th>\n",
       "      <td>FL</td>\n",
       "      <td>Highlands County</td>\n",
       "      <td>44783</td>\n",
       "      <td>18135</td>\n",
       "      <td>26221</td>\n",
       "      <td>40.89</td>\n",
       "    </tr>\n",
       "    <tr>\n",
       "      <th>193</th>\n",
       "      <td>FL</td>\n",
       "      <td>Hardee County</td>\n",
       "      <td>7412</td>\n",
       "      <td>2568</td>\n",
       "      <td>4763</td>\n",
       "      <td>35.03</td>\n",
       "    </tr>\n",
       "    <tr>\n",
       "      <th>194</th>\n",
       "      <td>FL</td>\n",
       "      <td>Manatee County</td>\n",
       "      <td>151994</td>\n",
       "      <td>70034</td>\n",
       "      <td>80721</td>\n",
       "      <td>46.46</td>\n",
       "    </tr>\n",
       "    <tr>\n",
       "      <th>195</th>\n",
       "      <td>FL</td>\n",
       "      <td>Okeechobee County</td>\n",
       "      <td>12786</td>\n",
       "      <td>5108</td>\n",
       "      <td>7561</td>\n",
       "      <td>40.32</td>\n",
       "    </tr>\n",
       "    <tr>\n",
       "      <th>196</th>\n",
       "      <td>FL</td>\n",
       "      <td>Saint Lucie County</td>\n",
       "      <td>120579</td>\n",
       "      <td>67125</td>\n",
       "      <td>52512</td>\n",
       "      <td>56.11</td>\n",
       "    </tr>\n",
       "    <tr>\n",
       "      <th>197</th>\n",
       "      <td>FL</td>\n",
       "      <td>Sarasota County</td>\n",
       "      <td>207353</td>\n",
       "      <td>102686</td>\n",
       "      <td>102897</td>\n",
       "      <td>49.95</td>\n",
       "    </tr>\n",
       "    <tr>\n",
       "      <th>198</th>\n",
       "      <td>FL</td>\n",
       "      <td>DeSoto County</td>\n",
       "      <td>10131</td>\n",
       "      <td>4383</td>\n",
       "      <td>5632</td>\n",
       "      <td>43.76</td>\n",
       "    </tr>\n",
       "    <tr>\n",
       "      <th>199</th>\n",
       "      <td>FL</td>\n",
       "      <td>Martin County</td>\n",
       "      <td>78294</td>\n",
       "      <td>33508</td>\n",
       "      <td>44143</td>\n",
       "      <td>43.15</td>\n",
       "    </tr>\n",
       "    <tr>\n",
       "      <th>200</th>\n",
       "      <td>FL</td>\n",
       "      <td>Glades County</td>\n",
       "      <td>3358</td>\n",
       "      <td>1381</td>\n",
       "      <td>1938</td>\n",
       "      <td>41.61</td>\n",
       "    </tr>\n",
       "    <tr>\n",
       "      <th>201</th>\n",
       "      <td>FL</td>\n",
       "      <td>Charlotte County</td>\n",
       "      <td>85158</td>\n",
       "      <td>39031</td>\n",
       "      <td>45205</td>\n",
       "      <td>46.34</td>\n",
       "    </tr>\n",
       "    <tr>\n",
       "      <th>202</th>\n",
       "      <td>FL</td>\n",
       "      <td>Palm Beach County</td>\n",
       "      <td>590500</td>\n",
       "      <td>361271</td>\n",
       "      <td>226037</td>\n",
       "      <td>61.51</td>\n",
       "    </tr>\n",
       "    <tr>\n",
       "      <th>203</th>\n",
       "      <td>FL</td>\n",
       "      <td>Hendry County</td>\n",
       "      <td>10879</td>\n",
       "      <td>4998</td>\n",
       "      <td>5780</td>\n",
       "      <td>46.37</td>\n",
       "    </tr>\n",
       "    <tr>\n",
       "      <th>204</th>\n",
       "      <td>FL</td>\n",
       "      <td>Lee County</td>\n",
       "      <td>269276</td>\n",
       "      <td>119701</td>\n",
       "      <td>147608</td>\n",
       "      <td>44.78</td>\n",
       "    </tr>\n",
       "    <tr>\n",
       "      <th>205</th>\n",
       "      <td>FL</td>\n",
       "      <td>Collier County</td>\n",
       "      <td>141988</td>\n",
       "      <td>54450</td>\n",
       "      <td>86379</td>\n",
       "      <td>38.66</td>\n",
       "    </tr>\n",
       "    <tr>\n",
       "      <th>206</th>\n",
       "      <td>FL</td>\n",
       "      <td>Broward County</td>\n",
       "      <td>733899</td>\n",
       "      <td>492640</td>\n",
       "      <td>237729</td>\n",
       "      <td>67.45</td>\n",
       "    </tr>\n",
       "    <tr>\n",
       "      <th>207</th>\n",
       "      <td>FL</td>\n",
       "      <td>Miami-Dade County</td>\n",
       "      <td>863486</td>\n",
       "      <td>499831</td>\n",
       "      <td>360551</td>\n",
       "      <td>58.09</td>\n",
       "    </tr>\n",
       "    <tr>\n",
       "      <th>208</th>\n",
       "      <td>FL</td>\n",
       "      <td>Monroe County</td>\n",
       "      <td>40272</td>\n",
       "      <td>20907</td>\n",
       "      <td>18933</td>\n",
       "      <td>52.48</td>\n",
       "    </tr>\n",
       "    <tr>\n",
       "      <th>209</th>\n",
       "      <td>OH</td>\n",
       "      <td>Ottawa County</td>\n",
       "      <td>23069</td>\n",
       "      <td>12049</td>\n",
       "      <td>10618</td>\n",
       "      <td>53.16</td>\n",
       "    </tr>\n",
       "    <tr>\n",
       "      <th>210</th>\n",
       "      <td>OH</td>\n",
       "      <td>Sandusky County</td>\n",
       "      <td>30373</td>\n",
       "      <td>15601</td>\n",
       "      <td>14190</td>\n",
       "      <td>52.40</td>\n",
       "    </tr>\n",
       "    <tr>\n",
       "      <th>211</th>\n",
       "      <td>OH</td>\n",
       "      <td>Summit County</td>\n",
       "      <td>269059</td>\n",
       "      <td>155105</td>\n",
       "      <td>110499</td>\n",
       "      <td>58.36</td>\n",
       "    </tr>\n",
       "    <tr>\n",
       "      <th>212</th>\n",
       "      <td>OH</td>\n",
       "      <td>Athens County</td>\n",
       "      <td>31098</td>\n",
       "      <td>20722</td>\n",
       "      <td>9742</td>\n",
       "      <td>68.02</td>\n",
       "    </tr>\n",
       "    <tr>\n",
       "      <th>213</th>\n",
       "      <td>OH</td>\n",
       "      <td>Butler County</td>\n",
       "      <td>173777</td>\n",
       "      <td>66030</td>\n",
       "      <td>105341</td>\n",
       "      <td>38.53</td>\n",
       "    </tr>\n",
       "    <tr>\n",
       "      <th>214</th>\n",
       "      <td>OH</td>\n",
       "      <td>Clinton County</td>\n",
       "      <td>19305</td>\n",
       "      <td>6558</td>\n",
       "      <td>12409</td>\n",
       "      <td>34.58</td>\n",
       "    </tr>\n",
       "    <tr>\n",
       "      <th>215</th>\n",
       "      <td>OH</td>\n",
       "      <td>Cuyahoga County</td>\n",
       "      <td>665352</td>\n",
       "      <td>458422</td>\n",
       "      <td>199880</td>\n",
       "      <td>69.64</td>\n",
       "    </tr>\n",
       "    <tr>\n",
       "      <th>216</th>\n",
       "      <td>OH</td>\n",
       "      <td>Franklin County</td>\n",
       "      <td>560325</td>\n",
       "      <td>334709</td>\n",
       "      <td>218486</td>\n",
       "      <td>60.50</td>\n",
       "    </tr>\n",
       "    <tr>\n",
       "      <th>217</th>\n",
       "      <td>OH</td>\n",
       "      <td>Hamilton County</td>\n",
       "      <td>425086</td>\n",
       "      <td>225213</td>\n",
       "      <td>195530</td>\n",
       "      <td>53.53</td>\n",
       "    </tr>\n",
       "    <tr>\n",
       "      <th>218</th>\n",
       "      <td>OH</td>\n",
       "      <td>Highland County</td>\n",
       "      <td>19186</td>\n",
       "      <td>6856</td>\n",
       "      <td>11907</td>\n",
       "      <td>36.54</td>\n",
       "    </tr>\n",
       "    <tr>\n",
       "      <th>219</th>\n",
       "      <td>OH</td>\n",
       "      <td>Hocking County</td>\n",
       "      <td>12961</td>\n",
       "      <td>6259</td>\n",
       "      <td>6364</td>\n",
       "      <td>49.58</td>\n",
       "    </tr>\n",
       "    <tr>\n",
       "      <th>220</th>\n",
       "      <td>OH</td>\n",
       "      <td>Licking County</td>\n",
       "      <td>82356</td>\n",
       "      <td>33932</td>\n",
       "      <td>46918</td>\n",
       "      <td>41.97</td>\n",
       "    </tr>\n",
       "    <tr>\n",
       "      <th>221</th>\n",
       "      <td>OH</td>\n",
       "      <td>Madison County</td>\n",
       "      <td>17454</td>\n",
       "      <td>6532</td>\n",
       "      <td>10606</td>\n",
       "      <td>38.11</td>\n",
       "    </tr>\n",
       "  </tbody>\n",
       "</table>\n",
       "<p>222 rows × 6 columns</p>\n",
       "</div>"
      ],
      "text/plain": [
       "    state              county  total_votes  dem_votes  rep_votes  dem_share\n",
       "0      PA         Erie County       127691      75775      50351      60.08\n",
       "1      PA     Bradford County        25787      10306      15057      40.64\n",
       "2      PA        Tioga County        17984       6390      11326      36.07\n",
       "3      PA       McKean County        15947       6465       9224      41.21\n",
       "4      PA       Potter County         7507       2300       5109      31.04\n",
       "5      PA        Wayne County        22835       9892      12702      43.78\n",
       "6      PA  Susquehanna County        19286       8381      10633      44.08\n",
       "7      PA       Warren County        18517       8537       9685      46.85\n",
       "8      OH    Ashtabula County        44874      25027      18949      56.94\n",
       "9      OH         Lake County       121335      60155      59142      50.46\n",
       "10     PA     Crawford County        38134      16780      20750      44.71\n",
       "11     OH        Lucas County       219830     142852      73706      65.99\n",
       "12     OH       Fulton County        21973       9900      11689      45.88\n",
       "13     OH       Geauga County        51102      21250      29096      42.23\n",
       "14     OH     Williams County        18397       8174       9880      45.26\n",
       "15     PA      Wyoming County        13138       5985       6983      46.15\n",
       "16     PA   Lackawanna County       107876      67520      39488      63.10\n",
       "17     PA          Elk County        14271       7290       6676      52.20\n",
       "18     PA       Forest County         2444       1038       1366      43.18\n",
       "19     PA      Venango County        23307       9238      13718      40.24\n",
       "20     OH         Erie County        41229      23148      17432      57.01\n",
       "21     OH         Wood County        65022      34285      29648      53.61\n",
       "22     PA      Cameron County         2245        879       1323      39.92\n",
       "23     PA         Pike County        24284      11493      12518      47.87\n",
       "24     PA     Lycoming County        49237      18381      30280      37.77\n",
       "25     PA     Sullivan County         3120       1233       1841      40.11\n",
       "26     OH       Lorain County       146859      85276      59068      59.10\n",
       "27     OH     Trumbull County       106911      64145      40164      61.48\n",
       "28     PA       Mercer County        53821      26411      26565      49.85\n",
       "29     OH        Henry County        14840       6320       8239      43.43\n",
       "..    ...                 ...          ...        ...        ...        ...\n",
       "192    FL    Highlands County        44783      18135      26221      40.89\n",
       "193    FL       Hardee County         7412       2568       4763      35.03\n",
       "194    FL      Manatee County       151994      70034      80721      46.46\n",
       "195    FL   Okeechobee County        12786       5108       7561      40.32\n",
       "196    FL  Saint Lucie County       120579      67125      52512      56.11\n",
       "197    FL     Sarasota County       207353     102686     102897      49.95\n",
       "198    FL       DeSoto County        10131       4383       5632      43.76\n",
       "199    FL       Martin County        78294      33508      44143      43.15\n",
       "200    FL       Glades County         3358       1381       1938      41.61\n",
       "201    FL    Charlotte County        85158      39031      45205      46.34\n",
       "202    FL   Palm Beach County       590500     361271     226037      61.51\n",
       "203    FL       Hendry County        10879       4998       5780      46.37\n",
       "204    FL          Lee County       269276     119701     147608      44.78\n",
       "205    FL      Collier County       141988      54450      86379      38.66\n",
       "206    FL      Broward County       733899     492640     237729      67.45\n",
       "207    FL   Miami-Dade County       863486     499831     360551      58.09\n",
       "208    FL       Monroe County        40272      20907      18933      52.48\n",
       "209    OH       Ottawa County        23069      12049      10618      53.16\n",
       "210    OH     Sandusky County        30373      15601      14190      52.40\n",
       "211    OH       Summit County       269059     155105     110499      58.36\n",
       "212    OH       Athens County        31098      20722       9742      68.02\n",
       "213    OH       Butler County       173777      66030     105341      38.53\n",
       "214    OH      Clinton County        19305       6558      12409      34.58\n",
       "215    OH     Cuyahoga County       665352     458422     199880      69.64\n",
       "216    OH     Franklin County       560325     334709     218486      60.50\n",
       "217    OH     Hamilton County       425086     225213     195530      53.53\n",
       "218    OH     Highland County        19186       6856      11907      36.54\n",
       "219    OH      Hocking County        12961       6259       6364      49.58\n",
       "220    OH      Licking County        82356      33932      46918      41.97\n",
       "221    OH      Madison County        17454       6532      10606      38.11\n",
       "\n",
       "[222 rows x 6 columns]"
      ]
     },
     "execution_count": 1,
     "metadata": {},
     "output_type": "execute_result"
    }
   ],
   "source": [
    "import pandas as pd\n",
    "\n",
    "datafile = 'http://zacharski.org/files/courses/data101/2008_swing_states.csv'\n",
    "\n",
    "df_swing = pd.read_csv(datafile)\n",
    "df_swing"
   ]
  },
  {
   "cell_type": "markdown",
   "metadata": {},
   "source": [
    "And now he generates a histogram using this data\n",
    "\n",
    "<img src=\"http://zacharski.org/files/courses/data101/histo.png\" width=\"700\" />\n",
    "\n",
    "Let's do the same"
   ]
  },
  {
   "cell_type": "code",
   "execution_count": 3,
   "metadata": {},
   "outputs": [
    {
     "data": {
      "image/png": "[encoded data removed]",
      "text/plain": [
       "<matplotlib.figure.Figure at 0x114b99630>"
      ]
     },
     "metadata": {},
     "output_type": "display_data"
    }
   ],
   "source": [
    "import matplotlib.pyplot as plt\n",
    "_ = plt.hist(df_swing['dem_share'])\n",
    "_ = plt.xlabel('percent of vote for Obama')\n",
    "_ = plt.ylabel('number of counties')\n",
    "plt.show()"
   ]
  },
  {
   "cell_type": "markdown",
   "metadata": {},
   "source": [
    "## Underscore and dummy variables\n",
    "\n",
    "He says that using the underscore is 'common practice' and it probably is, but this is the first time I have encountered it in my 15 years of professional Python programming. So it's up to you whether you want to use it or not.  The above without the underscores would be:"
   ]
  },
  {
   "cell_type": "code",
   "execution_count": 4,
   "metadata": {},
   "outputs": [
    {
     "data": {
      "image/png": "[encoded data removed]",
      "text/plain": [
       "<matplotlib.figure.Figure at 0x11668b128>"
      ]
     },
     "metadata": {},
     "output_type": "display_data"
    }
   ],
   "source": [
    "plt.hist(df_swing['dem_share'])\n",
    "plt.xlabel('percent of vote for Obama')\n",
    "plt.ylabel('number of counties')\n",
    "plt.show()"
   ]
  },
  {
   "cell_type": "markdown",
   "metadata": {},
   "source": [
    "#### what the underscore means\n",
    "\n",
    "Suppose we have a function, `colordots` that can color the dots on a scatterplot. So, for example, `colordots('blue')` will color the scatterplot dots blue. The function will return the number of dots it colored. So I might have some code\n",
    "\n",
    "    numberDots = colordots('blue')\n",
    "    print (str(numberDots) + ' dots colored')\n",
    "    \n",
    "and maybe \n",
    "\n",
    "    127 dots colored\n",
    "    \n",
    "will be printed.  Even though `colordots` always returns the number of dots colored (in our case 127), sometimes we don't care. If we don't care we can use the underscore:\n",
    "\n",
    "    _ = colordots('blue')\n",
    "    \n",
    "which means in English -- *we know colordots returns something, but just ignore it*\n",
    "\n",
    "\n",
    "    colordots('blue')\n",
    "    \n",
    "does the same thing\n",
    "\n",
    "### binning\n",
    "You specify bins by defining the bin edges like this example shows:"
   ]
  },
  {
   "cell_type": "code",
   "execution_count": 6,
   "metadata": {},
   "outputs": [
    {
     "data": {
      "image/png": "[encoded data removed]",
      "text/plain": [
       "<matplotlib.figure.Figure at 0x119b90668>"
      ]
     },
     "metadata": {},
     "output_type": "display_data"
    }
   ],
   "source": [
    "bin_edges = [0,10, 20, 30, 40, 50, 60, 70, 80, 90, 100]\n",
    "plt.hist(df_swing['dem_share'], bins=bin_edges)\n",
    "plt.show()"
   ]
  },
  {
   "cell_type": "markdown",
   "metadata": {},
   "source": [
    "As you can see, the first bar goes from 0 to 10, the second from 10-20 and so on.\n",
    "Alternatively, you can just specify the number of bins you'd like. Suppose we want 20:"
   ]
  },
  {
   "cell_type": "code",
   "execution_count": 7,
   "metadata": {},
   "outputs": [
    {
     "data": {
      "image/png": "[encoded data removed]",
      "text/plain": [
       "<matplotlib.figure.Figure at 0x119b90470>"
      ]
     },
     "metadata": {},
     "output_type": "display_data"
    }
   ],
   "source": [
    "plt.hist(df_swing['dem_share'], bins=20)\n",
    "plt.show()"
   ]
  },
  {
   "cell_type": "markdown",
   "metadata": {},
   "source": [
    "## Seaborn\n",
    "Seaborn makes plots look nicer. \n",
    "Here is the example he gives in the video"
   ]
  },
  {
   "cell_type": "code",
   "execution_count": 8,
   "metadata": {},
   "outputs": [
    {
     "data": {
      "image/png": "[encoded data removed]",
      "text/plain": [
       "<matplotlib.figure.Figure at 0x116051c88>"
      ]
     },
     "metadata": {},
     "output_type": "display_data"
    }
   ],
   "source": [
    "import seaborn as sns\n",
    "sns.set()\n",
    "_ = plt.hist(df_swing['dem_share'])\n",
    "_ = plt.xlabel('percent of vote for Obama')\n",
    "_ = plt.ylabel('number of counties')\n",
    "plt.show()"
   ]
  },
  {
   "cell_type": "markdown",
   "metadata": {},
   "source": [
    "#### Binning Bias\n",
    "Using histograms, the same data may be interpreted differently depending on the choice of bins. \n",
    "\n",
    "\n",
    "### Bee Swarm Plots\n",
    "<img src=\"http://zacharski.org/files/courses/data101/bees.png\" width=\"700\" />\n",
    "\n",
    "Here is the code he used to generate this plot:\n",
    "\n"
   ]
  },
  {
   "cell_type": "code",
   "execution_count": 12,
   "metadata": {},
   "outputs": [
    {
     "data": {
      "image/png": "[encoded data removed]",
      "text/plain": [
       "<matplotlib.figure.Figure at 0x1162bd2e8>"
      ]
     },
     "metadata": {},
     "output_type": "display_data"
    }
   ],
   "source": [
    "sns.swarmplot(x='state', y='dem_share', data= df_swing)\n",
    "plt.xlabel('state')\n",
    "plt.ylabel('% vote for Obama')\n",
    "plt.show()"
   ]
  },
  {
   "cell_type": "markdown",
   "metadata": {},
   "source": [
    "Let's dissect that first line:\n",
    "\n",
    "    sns.swarmplot(x='state', y='dem_share', data= df_swing)\n",
    "    \n",
    "and for that let's look at a few rows of our data:\n",
    "\n"
   ]
  },
  {
   "cell_type": "code",
   "execution_count": 14,
   "metadata": {},
   "outputs": [
    {
     "data": {
      "text/html": [
       "<div>\n",
       "<style>\n",
       "    .dataframe thead tr:only-child th {\n",
       "        text-align: right;\n",
       "    }\n",
       "\n",
       "    .dataframe thead th {\n",
       "        text-align: left;\n",
       "    }\n",
       "\n",
       "    .dataframe tbody tr th {\n",
       "        vertical-align: top;\n",
       "    }\n",
       "</style>\n",
       "<table border=\"1\" class=\"dataframe\">\n",
       "  <thead>\n",
       "    <tr style=\"text-align: right;\">\n",
       "      <th></th>\n",
       "      <th>state</th>\n",
       "      <th>county</th>\n",
       "      <th>total_votes</th>\n",
       "      <th>dem_votes</th>\n",
       "      <th>rep_votes</th>\n",
       "      <th>dem_share</th>\n",
       "    </tr>\n",
       "  </thead>\n",
       "  <tbody>\n",
       "    <tr>\n",
       "      <th>0</th>\n",
       "      <td>PA</td>\n",
       "      <td>Erie County</td>\n",
       "      <td>127691</td>\n",
       "      <td>75775</td>\n",
       "      <td>50351</td>\n",
       "      <td>60.08</td>\n",
       "    </tr>\n",
       "    <tr>\n",
       "      <th>1</th>\n",
       "      <td>PA</td>\n",
       "      <td>Bradford County</td>\n",
       "      <td>25787</td>\n",
       "      <td>10306</td>\n",
       "      <td>15057</td>\n",
       "      <td>40.64</td>\n",
       "    </tr>\n",
       "    <tr>\n",
       "      <th>2</th>\n",
       "      <td>PA</td>\n",
       "      <td>Tioga County</td>\n",
       "      <td>17984</td>\n",
       "      <td>6390</td>\n",
       "      <td>11326</td>\n",
       "      <td>36.07</td>\n",
       "    </tr>\n",
       "    <tr>\n",
       "      <th>3</th>\n",
       "      <td>PA</td>\n",
       "      <td>McKean County</td>\n",
       "      <td>15947</td>\n",
       "      <td>6465</td>\n",
       "      <td>9224</td>\n",
       "      <td>41.21</td>\n",
       "    </tr>\n",
       "    <tr>\n",
       "      <th>4</th>\n",
       "      <td>PA</td>\n",
       "      <td>Potter County</td>\n",
       "      <td>7507</td>\n",
       "      <td>2300</td>\n",
       "      <td>5109</td>\n",
       "      <td>31.04</td>\n",
       "    </tr>\n",
       "    <tr>\n",
       "      <th>5</th>\n",
       "      <td>PA</td>\n",
       "      <td>Wayne County</td>\n",
       "      <td>22835</td>\n",
       "      <td>9892</td>\n",
       "      <td>12702</td>\n",
       "      <td>43.78</td>\n",
       "    </tr>\n",
       "    <tr>\n",
       "      <th>6</th>\n",
       "      <td>PA</td>\n",
       "      <td>Susquehanna County</td>\n",
       "      <td>19286</td>\n",
       "      <td>8381</td>\n",
       "      <td>10633</td>\n",
       "      <td>44.08</td>\n",
       "    </tr>\n",
       "  </tbody>\n",
       "</table>\n",
       "</div>"
      ],
      "text/plain": [
       "  state              county  total_votes  dem_votes  rep_votes  dem_share\n",
       "0    PA         Erie County       127691      75775      50351      60.08\n",
       "1    PA     Bradford County        25787      10306      15057      40.64\n",
       "2    PA        Tioga County        17984       6390      11326      36.07\n",
       "3    PA       McKean County        15947       6465       9224      41.21\n",
       "4    PA       Potter County         7507       2300       5109      31.04\n",
       "5    PA        Wayne County        22835       9892      12702      43.78\n",
       "6    PA  Susquehanna County        19286       8381      10633      44.08"
      ]
     },
     "execution_count": 14,
     "metadata": {},
     "output_type": "execute_result"
    }
   ],
   "source": [
    "df_swing[:7]"
   ]
  },
  {
   "cell_type": "markdown",
   "metadata": {},
   "source": [
    "In the swarm plot above we see that the horizontal axis (x axis) is the states PA, OH, and FL. In our data, that information is in the 'state' column so we specify:\n",
    "\n",
    "\n",
    "    sns.swarmplot(x='state',\n",
    "    \n",
    "\n",
    "What we want to display is the percent of votes going to Obama, the 'dem_share' column, and that information is going to be displayed vertically (y axis):\n",
    "\n",
    "    sns.swarmplot(x='state', y='dem_share',\n",
    "    \n",
    "Finally we specify the dataset we want to use 'df_swing'\n",
    "\n",
    "    sns.swarmplot(x='state', y='dem_share', data= df_swing)\n",
    "    \n",
    "The resulting plot shows dots lumped into three groups, each group representing a state. What do the individual dots represent? Each dot represents a county. For example, from the small table above we can see that there are dots for Erie County, Bradford County, Tioga County and so on.\n",
    "\n",
    "\n",
    "## Empirical Cumulative Distribution Functions - ECDF\n",
    "\n",
    "Wow, he used *efficacy* and *obfuscating* in one 3 minute talk. \n",
    "\n",
    "Empirical Cumulative Distribution Functions sounds like something hard but it turns out it is not a big deal.\n",
    "\n",
    "Let's start with his example:\n"
   ]
  },
  {
   "cell_type": "code",
   "execution_count": 19,
   "metadata": {},
   "outputs": [
    {
     "data": {
      "image/png": "[encoded data removed]",
      "text/plain": [
       "<matplotlib.figure.Figure at 0x119b98ac8>"
      ]
     },
     "metadata": {},
     "output_type": "display_data"
    }
   ],
   "source": [
    "import numpy as np\n",
    "x = np.sort(df_swing['dem_share'])\n",
    "y = np.arange(1, len(x)+ 1) / len(x)\n",
    "plt.plot(x, y, marker='.', linestyle='none')\n",
    "plt.xlabel('% vote for Obama')\n",
    "plt.ylabel('ECDF')\n",
    "plt.margins(0.02) # keeps data off plot edges\n",
    "plt.show()\n"
   ]
  },
  {
   "cell_type": "markdown",
   "metadata": {},
   "source": [
    "Let's unpack that third line.\n",
    "\n",
    "    y = np.arange(1, len(x)+ 1) / len(x)\n",
    "    \n",
    "    \n",
    "And let's check on what `len(x)` is"
   ]
  },
  {
   "cell_type": "code",
   "execution_count": 20,
   "metadata": {},
   "outputs": [
    {
     "data": {
      "text/plain": [
       "222"
      ]
     },
     "execution_count": 20,
     "metadata": {},
     "output_type": "execute_result"
    }
   ],
   "source": [
    "len(x)"
   ]
  },
  {
   "cell_type": "markdown",
   "metadata": {},
   "source": [
    "Ok, so `len(x)` is 222 and `len(x) + 1` is 223.  So  `np.arange(1, len(x)+ 1)` is, in this specific case, the same as `np.arange(1, 223)`. So what does that do?"
   ]
  },
  {
   "cell_type": "code",
   "execution_count": 21,
   "metadata": {},
   "outputs": [
    {
     "data": {
      "text/plain": [
       "array([  1,   2,   3,   4,   5,   6,   7,   8,   9,  10,  11,  12,  13,\n",
       "        14,  15,  16,  17,  18,  19,  20,  21,  22,  23,  24,  25,  26,\n",
       "        27,  28,  29,  30,  31,  32,  33,  34,  35,  36,  37,  38,  39,\n",
       "        40,  41,  42,  43,  44,  45,  46,  47,  48,  49,  50,  51,  52,\n",
       "        53,  54,  55,  56,  57,  58,  59,  60,  61,  62,  63,  64,  65,\n",
       "        66,  67,  68,  69,  70,  71,  72,  73,  74,  75,  76,  77,  78,\n",
       "        79,  80,  81,  82,  83,  84,  85,  86,  87,  88,  89,  90,  91,\n",
       "        92,  93,  94,  95,  96,  97,  98,  99, 100, 101, 102, 103, 104,\n",
       "       105, 106, 107, 108, 109, 110, 111, 112, 113, 114, 115, 116, 117,\n",
       "       118, 119, 120, 121, 122, 123, 124, 125, 126, 127, 128, 129, 130,\n",
       "       131, 132, 133, 134, 135, 136, 137, 138, 139, 140, 141, 142, 143,\n",
       "       144, 145, 146, 147, 148, 149, 150, 151, 152, 153, 154, 155, 156,\n",
       "       157, 158, 159, 160, 161, 162, 163, 164, 165, 166, 167, 168, 169,\n",
       "       170, 171, 172, 173, 174, 175, 176, 177, 178, 179, 180, 181, 182,\n",
       "       183, 184, 185, 186, 187, 188, 189, 190, 191, 192, 193, 194, 195,\n",
       "       196, 197, 198, 199, 200, 201, 202, 203, 204, 205, 206, 207, 208,\n",
       "       209, 210, 211, 212, 213, 214, 215, 216, 217, 218, 219, 220, 221, 222])"
      ]
     },
     "execution_count": 21,
     "metadata": {},
     "output_type": "execute_result"
    }
   ],
   "source": [
    "np.arange(1, 223)"
   ]
  },
  {
   "cell_type": "markdown",
   "metadata": {},
   "source": [
    "so `np.arange` takes a start and end number and just returns a list of numbers that starts at the start number and ends just before the end number. So, if we wanted a list going from 1...10 we would write:\n"
   ]
  },
  {
   "cell_type": "code",
   "execution_count": 22,
   "metadata": {},
   "outputs": [
    {
     "data": {
      "text/plain": [
       "array([ 1,  2,  3,  4,  5,  6,  7,  8,  9, 10])"
      ]
     },
     "execution_count": 22,
     "metadata": {},
     "output_type": "execute_result"
    }
   ],
   "source": [
    "np.arange(1,11)"
   ]
  },
  {
   "cell_type": "markdown",
   "metadata": {},
   "source": [
    "You may be wondering about the line before the arange one:\n",
    "    \n",
    "    x = np.sort(df_swing['dem_share'])\n",
    "    \n",
    "Sort does what you think it would do:"
   ]
  },
  {
   "cell_type": "code",
   "execution_count": 26,
   "metadata": {},
   "outputs": [
    {
     "name": "stdout",
     "output_type": "stream",
     "text": [
      "[72 67 69 73 63 70 75 71 69]\n",
      "[63 67 69 69 70 71 72 73 75]\n"
     ]
    }
   ],
   "source": [
    "heights = np.array([72, 67, 69, 73, 63, 70, 75,  71, 69])\n",
    "print(heights)\n",
    "print(np.sort(heights))"
   ]
  },
  {
   "cell_type": "markdown",
   "metadata": {},
   "source": [
    "What would the plot look like if we didn't sort the data?  There's one way to find out:"
   ]
  },
  {
   "cell_type": "code",
   "execution_count": 25,
   "metadata": {},
   "outputs": [
    {
     "data": {
      "image/png": "[encoded data removed]",
      "text/plain": [
       "<matplotlib.figure.Figure at 0x11c0bbe10>"
      ]
     },
     "metadata": {},
     "output_type": "display_data"
    }
   ],
   "source": [
    "x = df_swing['dem_share']\n",
    "y = np.arange(1, len(x)+ 1) / len(x)\n",
    "plt.plot(x, y, marker='.', linestyle='none')\n",
    "plt.xlabel('% vote for Obama')\n",
    "plt.ylabel('ECDF')\n",
    "plt.margins(0.02) # keeps data off plot edges\n",
    "plt.show()"
   ]
  },
  {
   "cell_type": "markdown",
   "metadata": {},
   "source": [
    "Ok. So that `np.sort` seems pretty important. To try to understand this more let's look at a different dataset: women who competed in gymnastics in the Olympics. Let's get the data"
   ]
  },
  {
   "cell_type": "code",
   "execution_count": 35,
   "metadata": {},
   "outputs": [
    {
     "data": {
      "text/html": [
       "<div>\n",
       "<style>\n",
       "    .dataframe thead tr:only-child th {\n",
       "        text-align: right;\n",
       "    }\n",
       "\n",
       "    .dataframe thead th {\n",
       "        text-align: left;\n",
       "    }\n",
       "\n",
       "    .dataframe tbody tr th {\n",
       "        vertical-align: top;\n",
       "    }\n",
       "</style>\n",
       "<table border=\"1\" class=\"dataframe\">\n",
       "  <thead>\n",
       "    <tr style=\"text-align: right;\">\n",
       "      <th></th>\n",
       "      <th>Sport</th>\n",
       "      <th>Height</th>\n",
       "      <th>Weight</th>\n",
       "    </tr>\n",
       "    <tr>\n",
       "      <th>Name</th>\n",
       "      <th></th>\n",
       "      <th></th>\n",
       "      <th></th>\n",
       "    </tr>\n",
       "  </thead>\n",
       "  <tbody>\n",
       "    <tr>\n",
       "      <th>Asuka Teramoto</th>\n",
       "      <td>Gymnastics</td>\n",
       "      <td>54</td>\n",
       "      <td>66</td>\n",
       "    </tr>\n",
       "    <tr>\n",
       "      <th>Gabby Douglas</th>\n",
       "      <td>Gymnastics</td>\n",
       "      <td>49</td>\n",
       "      <td>90</td>\n",
       "    </tr>\n",
       "    <tr>\n",
       "      <th>Laurie Hernandez</th>\n",
       "      <td>Gymnastics</td>\n",
       "      <td>60</td>\n",
       "      <td>106</td>\n",
       "    </tr>\n",
       "    <tr>\n",
       "      <th>Linlin Deng</th>\n",
       "      <td>Gymnastics</td>\n",
       "      <td>54</td>\n",
       "      <td>68</td>\n",
       "    </tr>\n",
       "    <tr>\n",
       "      <th>Madison Kocian</th>\n",
       "      <td>Gymnastics</td>\n",
       "      <td>62</td>\n",
       "      <td>101</td>\n",
       "    </tr>\n",
       "    <tr>\n",
       "      <th>Qiushuang Huang</th>\n",
       "      <td>Gymnastics</td>\n",
       "      <td>61</td>\n",
       "      <td>95</td>\n",
       "    </tr>\n",
       "    <tr>\n",
       "      <th>Rebecca Tunney</th>\n",
       "      <td>Gymnastics</td>\n",
       "      <td>58</td>\n",
       "      <td>77</td>\n",
       "    </tr>\n",
       "    <tr>\n",
       "      <th>Simone Biles</th>\n",
       "      <td>Gymnastics</td>\n",
       "      <td>57</td>\n",
       "      <td>104</td>\n",
       "    </tr>\n",
       "    <tr>\n",
       "      <th>Viktoria Komova</th>\n",
       "      <td>Gymnastics</td>\n",
       "      <td>61</td>\n",
       "      <td>76</td>\n",
       "    </tr>\n",
       "    <tr>\n",
       "      <th>Ulyana Trofimova</th>\n",
       "      <td>Gymnastics</td>\n",
       "      <td>64</td>\n",
       "      <td>93</td>\n",
       "    </tr>\n",
       "    <tr>\n",
       "      <th>Carly Patterson</th>\n",
       "      <td>Gymnastics</td>\n",
       "      <td>60</td>\n",
       "      <td>97</td>\n",
       "    </tr>\n",
       "    <tr>\n",
       "      <th>Yelena Shushunova</th>\n",
       "      <td>Gymnastics</td>\n",
       "      <td>58</td>\n",
       "      <td>90</td>\n",
       "    </tr>\n",
       "    <tr>\n",
       "      <th>Shannon Miller</th>\n",
       "      <td>Gymnastics</td>\n",
       "      <td>61</td>\n",
       "      <td>86</td>\n",
       "    </tr>\n",
       "    <tr>\n",
       "      <th>Lilia Podkopayeva</th>\n",
       "      <td>Gymnastics</td>\n",
       "      <td>59</td>\n",
       "      <td>93</td>\n",
       "    </tr>\n",
       "    <tr>\n",
       "      <th>Kim Zmeskal</th>\n",
       "      <td>Gymnastics</td>\n",
       "      <td>55</td>\n",
       "      <td>80</td>\n",
       "    </tr>\n",
       "    <tr>\n",
       "      <th>Svetlana Boginskaya</th>\n",
       "      <td>Gymnastics</td>\n",
       "      <td>62</td>\n",
       "      <td>90</td>\n",
       "    </tr>\n",
       "    <tr>\n",
       "      <th>Shang Chunsong</th>\n",
       "      <td>Gymnastics</td>\n",
       "      <td>56</td>\n",
       "      <td>75</td>\n",
       "    </tr>\n",
       "    <tr>\n",
       "      <th>Wang Yan</th>\n",
       "      <td>Gymnastics</td>\n",
       "      <td>55</td>\n",
       "      <td>73</td>\n",
       "    </tr>\n",
       "    <tr>\n",
       "      <th>Fan Yilin</th>\n",
       "      <td>Gymnastics</td>\n",
       "      <td>58</td>\n",
       "      <td>82</td>\n",
       "    </tr>\n",
       "    <tr>\n",
       "      <th>Asuka Teramoto</th>\n",
       "      <td>Gymnastics</td>\n",
       "      <td>57</td>\n",
       "      <td>82</td>\n",
       "    </tr>\n",
       "    <tr>\n",
       "      <th>Kōko Tsurumi</th>\n",
       "      <td>Gymnastics</td>\n",
       "      <td>55</td>\n",
       "      <td>71</td>\n",
       "    </tr>\n",
       "    <tr>\n",
       "      <th>Svetlana Khorkina</th>\n",
       "      <td>Gymnastics</td>\n",
       "      <td>65</td>\n",
       "      <td>104</td>\n",
       "    </tr>\n",
       "    <tr>\n",
       "      <th>Nadia Comăneci</th>\n",
       "      <td>Gymnastics</td>\n",
       "      <td>63</td>\n",
       "      <td>99</td>\n",
       "    </tr>\n",
       "    <tr>\n",
       "      <th>Mary Lou Retton</th>\n",
       "      <td>Gymnastics</td>\n",
       "      <td>59</td>\n",
       "      <td>93</td>\n",
       "    </tr>\n",
       "    <tr>\n",
       "      <th>Kerri Strug</th>\n",
       "      <td>Gymnastics</td>\n",
       "      <td>55</td>\n",
       "      <td>82</td>\n",
       "    </tr>\n",
       "  </tbody>\n",
       "</table>\n",
       "</div>"
      ],
      "text/plain": [
       "                          Sport  Height  Weight\n",
       "Name                                           \n",
       "Asuka Teramoto       Gymnastics      54      66\n",
       "Gabby Douglas        Gymnastics      49      90\n",
       "Laurie Hernandez     Gymnastics      60     106\n",
       "Linlin Deng          Gymnastics      54      68\n",
       "Madison Kocian       Gymnastics      62     101\n",
       "Qiushuang Huang      Gymnastics      61      95\n",
       "Rebecca Tunney       Gymnastics      58      77\n",
       "Simone Biles         Gymnastics      57     104\n",
       "Viktoria Komova      Gymnastics      61      76\n",
       "Ulyana Trofimova     Gymnastics      64      93\n",
       "Carly Patterson      Gymnastics      60      97\n",
       "Yelena Shushunova    Gymnastics      58      90\n",
       "Shannon Miller       Gymnastics      61      86\n",
       "Lilia Podkopayeva    Gymnastics      59      93\n",
       "Kim Zmeskal          Gymnastics      55      80\n",
       "Svetlana Boginskaya  Gymnastics      62      90\n",
       "Shang Chunsong       Gymnastics      56      75\n",
       "Wang Yan             Gymnastics      55      73\n",
       "Fan Yilin            Gymnastics      58      82\n",
       "Asuka Teramoto       Gymnastics      57      82\n",
       "Kōko Tsurumi         Gymnastics      55      71\n",
       "Svetlana Khorkina    Gymnastics      65     104\n",
       "Nadia Comăneci       Gymnastics      63      99\n",
       "Mary Lou Retton      Gymnastics      59      93\n",
       "Kerri Strug          Gymnastics      55      82"
      ]
     },
     "execution_count": 35,
     "metadata": {},
     "output_type": "execute_result"
    }
   ],
   "source": [
    "athletes = pd.read_csv('https://raw.githubusercontent.com/zacharski/machine-learning/master/data/athletes-gb.csv')\n",
    "athletes.set_index('Name', inplace=True)\n",
    "gymnasts = athletes.loc[(athletes['Sport'] == 'Gymnastics')]\n",
    "gymnasts"
   ]
  },
  {
   "cell_type": "markdown",
   "metadata": {},
   "source": [
    "Let's say you and your friend are arguing about whether the wackiness of the weights of gymnasts. And you decide to backup your position using data science skills. Let's see if we can make an ECDF. So the code for swing states was:\n",
    "\n",
    "    x = np.sort(df_swing['dem_share'])\n",
    "    y = np.arange(1, len(x)+ 1) / len(x)\n",
    "    plt.plot(x, y, marker='.', linestyle='none')\n",
    "    plt.xlabel('% vote for Obama')\n",
    "    plt.ylabel('ECDF')\n",
    "    plt.margins(0.02) # keeps data off plot edges\n",
    "    plt.show()\n",
    "\n",
    "Let's convert this line-by-line. So\n",
    "\n",
    "    x = np.sort(df_swing['dem_share'])\n",
    "\n",
    "so we are not interested in democratic share but we are interested in weight and that column is called 'Weight':\n",
    "\n",
    "    "
   ]
  },
  {
   "cell_type": "code",
   "execution_count": 37,
   "metadata": {},
   "outputs": [
    {
     "data": {
      "text/plain": [
       "array([ 66,  68,  71,  73,  75,  76,  77,  80,  82,  82,  82,  86,  90,\n",
       "        90,  90,  93,  93,  93,  95,  97,  99, 101, 104, 104, 106])"
      ]
     },
     "execution_count": 37,
     "metadata": {},
     "output_type": "execute_result"
    }
   ],
   "source": [
    "x = np.sort(gymnasts['Weight'])\n",
    "x"
   ]
  },
  {
   "cell_type": "markdown",
   "metadata": {},
   "source": [
    "So the lightest gymnast (Asuka Teramoto) weighs 66 pounds and the heaviest (Laurie Hernandez) is 106.\n",
    "\n",
    "The next line of the swing state example was:\n",
    "\n",
    "    y = np.arange(1, len(x)+ 1) / len(x)\n",
    "    \n",
    "and that can remain the same:\n"
   ]
  },
  {
   "cell_type": "code",
   "execution_count": 39,
   "metadata": {},
   "outputs": [
    {
     "data": {
      "text/plain": [
       "array([ 0.04,  0.08,  0.12,  0.16,  0.2 ,  0.24,  0.28,  0.32,  0.36,\n",
       "        0.4 ,  0.44,  0.48,  0.52,  0.56,  0.6 ,  0.64,  0.68,  0.72,\n",
       "        0.76,  0.8 ,  0.84,  0.88,  0.92,  0.96,  1.  ])"
      ]
     },
     "execution_count": 39,
     "metadata": {},
     "output_type": "execute_result"
    }
   ],
   "source": [
    "y = np.arange(1, len(x)+ 1) / len(x)\n",
    "y"
   ]
  },
  {
   "cell_type": "markdown",
   "metadata": {},
   "source": [
    "(Here I have y (and previously x) alone on a line just so it shows the value of that variable. Otherwise, I wouldn't get any feedback.\n",
    "\n",
    "The next lines of the example are:\n",
    "\n",
    "    plt.plot(x, y, marker='.', linestyle='none')\n",
    "    plt.xlabel('% vote for Obama')\n",
    "    plt.ylabel('ECDF')\n",
    "    plt.margins(0.02) # keeps data off plot edges\n",
    "    plt.show()\n",
    "    \n",
    "Other than the label lines everything remains the same:"
   ]
  },
  {
   "cell_type": "code",
   "execution_count": 40,
   "metadata": {},
   "outputs": [
    {
     "data": {
      "image/png": "[encoded data removed]",
      "text/plain": [
       "<matplotlib.figure.Figure at 0x11c0d4208>"
      ]
     },
     "metadata": {},
     "output_type": "display_data"
    }
   ],
   "source": [
    "plt.plot(x, y, marker='.', linestyle='none')\n",
    "plt.xlabel('weight (in pounds)')\n",
    "plt.ylabel('ECDF')\n",
    "plt.margins(0.02) # keeps data off plot edges\n",
    "plt.show()"
   ]
  },
  {
   "cell_type": "markdown",
   "metadata": {},
   "source": [
    "We have the chart, but how do we interpret it? The vertical axis is the percent of our gymansts. \n",
    "\n",
    "* So the 0.2 means 20% of our gymnasts. And if we look at where the dots intersect the 0.2 we see it is around 75 on the x axis. So we can say that 20%  (0.2) of the gymnasts weight 75 pounds or less. \n",
    "* What about 50% of the gymnasts? So we eyeball between 0.4 and 0.6 and it looks like 50% of the gymnasts weight 90 or less. \n",
    "* What percent weigh under 100 pounds? It looks like 85% or so. \n",
    "\n",
    "In the video he mentioned that you can get multiple plots on one graph. Let's try it by comparing the height of gymnasts to the heights of players of the Women's NBA. \n",
    "\n",
    "We have the gymnasts' data, let's load the basketball players:\n",
    "\n"
   ]
  },
  {
   "cell_type": "code",
   "execution_count": 41,
   "metadata": {},
   "outputs": [
    {
     "data": {
      "text/html": [
       "<div>\n",
       "<style>\n",
       "    .dataframe thead tr:only-child th {\n",
       "        text-align: right;\n",
       "    }\n",
       "\n",
       "    .dataframe thead th {\n",
       "        text-align: left;\n",
       "    }\n",
       "\n",
       "    .dataframe tbody tr th {\n",
       "        vertical-align: top;\n",
       "    }\n",
       "</style>\n",
       "<table border=\"1\" class=\"dataframe\">\n",
       "  <thead>\n",
       "    <tr style=\"text-align: right;\">\n",
       "      <th></th>\n",
       "      <th>Sport</th>\n",
       "      <th>Height</th>\n",
       "      <th>Weight</th>\n",
       "    </tr>\n",
       "    <tr>\n",
       "      <th>Name</th>\n",
       "      <th></th>\n",
       "      <th></th>\n",
       "      <th></th>\n",
       "    </tr>\n",
       "  </thead>\n",
       "  <tbody>\n",
       "    <tr>\n",
       "      <th>Brittainey Raven</th>\n",
       "      <td>Basketball</td>\n",
       "      <td>72</td>\n",
       "      <td>162</td>\n",
       "    </tr>\n",
       "    <tr>\n",
       "      <th>Chen Nan</th>\n",
       "      <td>Basketball</td>\n",
       "      <td>78</td>\n",
       "      <td>204</td>\n",
       "    </tr>\n",
       "    <tr>\n",
       "      <th>Elena Delle Donne</th>\n",
       "      <td>Basketball</td>\n",
       "      <td>77</td>\n",
       "      <td>188</td>\n",
       "    </tr>\n",
       "    <tr>\n",
       "      <th>Jennifer Lacy</th>\n",
       "      <td>Basketball</td>\n",
       "      <td>75</td>\n",
       "      <td>175</td>\n",
       "    </tr>\n",
       "    <tr>\n",
       "      <th>Nakia Sanford</th>\n",
       "      <td>Basketball</td>\n",
       "      <td>76</td>\n",
       "      <td>200</td>\n",
       "    </tr>\n",
       "    <tr>\n",
       "      <th>Nikki Blue</th>\n",
       "      <td>Basketball</td>\n",
       "      <td>68</td>\n",
       "      <td>163</td>\n",
       "    </tr>\n",
       "    <tr>\n",
       "      <th>Seimone Augustus</th>\n",
       "      <td>Basketball</td>\n",
       "      <td>72</td>\n",
       "      <td>166</td>\n",
       "    </tr>\n",
       "    <tr>\n",
       "      <th>Shanna Crossley</th>\n",
       "      <td>Basketball</td>\n",
       "      <td>70</td>\n",
       "      <td>155</td>\n",
       "    </tr>\n",
       "    <tr>\n",
       "      <th>Shavonte Zellous</th>\n",
       "      <td>Basketball</td>\n",
       "      <td>70</td>\n",
       "      <td>155</td>\n",
       "    </tr>\n",
       "    <tr>\n",
       "      <th>Natalie Achonwa</th>\n",
       "      <td>Basketball</td>\n",
       "      <td>76</td>\n",
       "      <td>183</td>\n",
       "    </tr>\n",
       "    <tr>\n",
       "      <th>Alana Beard</th>\n",
       "      <td>Basketball</td>\n",
       "      <td>71</td>\n",
       "      <td>160</td>\n",
       "    </tr>\n",
       "    <tr>\n",
       "      <th>Amanda Zahui</th>\n",
       "      <td>Basketball</td>\n",
       "      <td>77</td>\n",
       "      <td>250</td>\n",
       "    </tr>\n",
       "    <tr>\n",
       "      <th>Shavonte Zellous</th>\n",
       "      <td>Basketball</td>\n",
       "      <td>70</td>\n",
       "      <td>188</td>\n",
       "    </tr>\n",
       "    <tr>\n",
       "      <th>Monica Wright</th>\n",
       "      <td>Basketball</td>\n",
       "      <td>70</td>\n",
       "      <td>182</td>\n",
       "    </tr>\n",
       "    <tr>\n",
       "      <th>Penny Taylor</th>\n",
       "      <td>Basketball</td>\n",
       "      <td>73</td>\n",
       "      <td>165</td>\n",
       "    </tr>\n",
       "    <tr>\n",
       "      <th>Diana Taurasi</th>\n",
       "      <td>Basketball</td>\n",
       "      <td>72</td>\n",
       "      <td>163</td>\n",
       "    </tr>\n",
       "    <tr>\n",
       "      <th>Clarissa Dos Santos</th>\n",
       "      <td>Basketball</td>\n",
       "      <td>73</td>\n",
       "      <td>196</td>\n",
       "    </tr>\n",
       "    <tr>\n",
       "      <th>Kelly Faris</th>\n",
       "      <td>Basketball</td>\n",
       "      <td>71</td>\n",
       "      <td>154</td>\n",
       "    </tr>\n",
       "    <tr>\n",
       "      <th>Carla Cortijo</th>\n",
       "      <td>Basketball</td>\n",
       "      <td>68</td>\n",
       "      <td>135</td>\n",
       "    </tr>\n",
       "    <tr>\n",
       "      <th>Tayler Hill</th>\n",
       "      <td>Basketball</td>\n",
       "      <td>69</td>\n",
       "      <td>145</td>\n",
       "    </tr>\n",
       "    <tr>\n",
       "      <th>Ruth Hamblin</th>\n",
       "      <td>Basketball</td>\n",
       "      <td>78</td>\n",
       "      <td>227</td>\n",
       "    </tr>\n",
       "    <tr>\n",
       "      <th>Bria Hartley</th>\n",
       "      <td>Basketball</td>\n",
       "      <td>68</td>\n",
       "      <td>148</td>\n",
       "    </tr>\n",
       "    <tr>\n",
       "      <th>Maggie Lucas</th>\n",
       "      <td>Basketball</td>\n",
       "      <td>70</td>\n",
       "      <td>152</td>\n",
       "    </tr>\n",
       "    <tr>\n",
       "      <th>Leilani Mitchell</th>\n",
       "      <td>Basketball</td>\n",
       "      <td>65</td>\n",
       "      <td>138</td>\n",
       "    </tr>\n",
       "    <tr>\n",
       "      <th>Erica Wheeler</th>\n",
       "      <td>Basketball</td>\n",
       "      <td>57</td>\n",
       "      <td>143</td>\n",
       "    </tr>\n",
       "  </tbody>\n",
       "</table>\n",
       "</div>"
      ],
      "text/plain": [
       "                          Sport  Height  Weight\n",
       "Name                                           \n",
       "Brittainey Raven     Basketball      72     162\n",
       "Chen Nan             Basketball      78     204\n",
       "Elena Delle Donne    Basketball      77     188\n",
       "Jennifer Lacy        Basketball      75     175\n",
       "Nakia Sanford        Basketball      76     200\n",
       "Nikki Blue           Basketball      68     163\n",
       "Seimone Augustus     Basketball      72     166\n",
       "Shanna Crossley      Basketball      70     155\n",
       "Shavonte Zellous     Basketball      70     155\n",
       "Natalie Achonwa      Basketball      76     183\n",
       "Alana Beard          Basketball      71     160\n",
       "Amanda Zahui         Basketball      77     250\n",
       "Shavonte Zellous     Basketball      70     188\n",
       "Monica Wright        Basketball      70     182\n",
       "Penny Taylor         Basketball      73     165\n",
       "Diana Taurasi        Basketball      72     163\n",
       "Clarissa Dos Santos  Basketball      73     196\n",
       "Kelly Faris          Basketball      71     154\n",
       "Carla Cortijo        Basketball      68     135\n",
       "Tayler Hill          Basketball      69     145\n",
       "Ruth Hamblin         Basketball      78     227\n",
       "Bria Hartley         Basketball      68     148\n",
       "Maggie Lucas         Basketball      70     152\n",
       "Leilani Mitchell     Basketball      65     138\n",
       "Erica Wheeler        Basketball      57     143"
      ]
     },
     "execution_count": 41,
     "metadata": {},
     "output_type": "execute_result"
    }
   ],
   "source": [
    "basketballPlayers = athletes.loc[(athletes['Sport'] == 'Basketball')]\n",
    "basketballPlayers"
   ]
  },
  {
   "cell_type": "markdown",
   "metadata": {},
   "source": [
    "Now let's get the plot of the gymnasts:"
   ]
  },
  {
   "cell_type": "code",
   "execution_count": 59,
   "metadata": {
    "collapsed": true
   },
   "outputs": [],
   "source": [
    "xGymnasts = np.sort(gymnasts['Height'])\n",
    "yGymnasts = np.arange(1, len(x)+ 1) / len(x)\n",
    "plt.plot(xGymnasts, yGymnasts, marker='.', linestyle='none', label='gymnasts')\n",
    "plt.legend(loc='best')\n",
    "plt.xlabel('height (in inches)')\n",
    "plt.ylabel('ECDF')\n",
    "plt.margins(0.02) # keeps data off plot edges\n"
   ]
  },
  {
   "cell_type": "markdown",
   "metadata": {},
   "source": [
    "Now let's do the same for the basketball players then show the plot:\n"
   ]
  },
  {
   "cell_type": "code",
   "execution_count": 60,
   "metadata": {},
   "outputs": [
    {
     "data": {
      "image/png": "[encoded data removed]",
      "text/plain": [
       "<matplotlib.figure.Figure at 0x11bcb6be0>"
      ]
     },
     "metadata": {},
     "output_type": "display_data"
    }
   ],
   "source": [
    "xBasketball = np.sort(basketballPlayers['Height'])\n",
    "yBasketball = np.arange(1, len(x)+ 1) / len(x)\n",
    "plt.plot(xBasketball, yBasketball, marker='.', color='red', linestyle='none', label='basketball')\n",
    "\n",
    "plt.legend(loc='best')\n",
    "plt.show()\n"
   ]
  },
  {
   "cell_type": "markdown",
   "metadata": {},
   "source": [
    "Ok, that wasn't very helpful -- we already know that women basketball players are taller than women gymnasts. But it looks like we may have an error in our data-- we have that lone red dot of a basketball player who is only 57 inches tall. Looking at the data above I see that is the height of Erica Wheeler. I googled her name and found that she is 5 foot 7 inches so indeed that is a data entry error. This is yet another reason why doing an initial plot of the data is helpful.\n",
    "\n",
    "### Computing the ECDF\n",
    "\n",
    "In this section of the course, Justin Bois assumes you have some familiarity with defining functions. To complete this section you don't need to be an expert but let me give you a bit of an explanation. \n",
    "\n",
    "In our athletes dataset we have heights (in inches) and weights (in pounds). In the first notebook we computed Body Mass Index which was \n",
    "\n",
    "## $$bmi=\\frac{weightK}{heightM^2}$$\n",
    "\n",
    "`weightK` is weight in kilograms and `heightM` is height in meters. And\n",
    "\n",
    "* an inch is equal to .0254 meters\n",
    "* a kilogram is equal to 2.205 pounds\n",
    "\n",
    "let's repeat what we did in that worksheet and compute the bmi for the first person in our dataset:"
   ]
  },
  {
   "cell_type": "code",
   "execution_count": 62,
   "metadata": {},
   "outputs": [
    {
     "data": {
      "text/html": [
       "<div>\n",
       "<style>\n",
       "    .dataframe thead tr:only-child th {\n",
       "        text-align: right;\n",
       "    }\n",
       "\n",
       "    .dataframe thead th {\n",
       "        text-align: left;\n",
       "    }\n",
       "\n",
       "    .dataframe tbody tr th {\n",
       "        vertical-align: top;\n",
       "    }\n",
       "</style>\n",
       "<table border=\"1\" class=\"dataframe\">\n",
       "  <thead>\n",
       "    <tr style=\"text-align: right;\">\n",
       "      <th></th>\n",
       "      <th>Sport</th>\n",
       "      <th>Height</th>\n",
       "      <th>Weight</th>\n",
       "    </tr>\n",
       "    <tr>\n",
       "      <th>Name</th>\n",
       "      <th></th>\n",
       "      <th></th>\n",
       "      <th></th>\n",
       "    </tr>\n",
       "  </thead>\n",
       "  <tbody>\n",
       "    <tr>\n",
       "      <th>Brittainey Raven</th>\n",
       "      <td>Basketball</td>\n",
       "      <td>72</td>\n",
       "      <td>162</td>\n",
       "    </tr>\n",
       "  </tbody>\n",
       "</table>\n",
       "</div>"
      ],
      "text/plain": [
       "                       Sport  Height  Weight\n",
       "Name                                        \n",
       "Brittainey Raven  Basketball      72     162"
      ]
     },
     "execution_count": 62,
     "metadata": {},
     "output_type": "execute_result"
    }
   ],
   "source": [
    "athletes[:1]"
   ]
  },
  {
   "cell_type": "markdown",
   "metadata": {},
   "source": [
    "So Brittainey's BMI is"
   ]
  },
  {
   "cell_type": "code",
   "execution_count": 68,
   "metadata": {},
   "outputs": [
    {
     "data": {
      "text/plain": [
       "21.967164115734125"
      ]
     },
     "execution_count": 68,
     "metadata": {},
     "output_type": "execute_result"
    }
   ],
   "source": [
    "weightK = 162 / 2.205\n",
    "heightM = 72 * 0.0254\n",
    "brittaineyBMI = weightK / heightM**2\n",
    "brittaineyBMI"
   ]
  },
  {
   "cell_type": "markdown",
   "metadata": {},
   "source": [
    "If we wanted to compute the bmi for the next entry:"
   ]
  },
  {
   "cell_type": "code",
   "execution_count": 70,
   "metadata": {},
   "outputs": [
    {
     "data": {
      "text/html": [
       "<div>\n",
       "<style>\n",
       "    .dataframe thead tr:only-child th {\n",
       "        text-align: right;\n",
       "    }\n",
       "\n",
       "    .dataframe thead th {\n",
       "        text-align: left;\n",
       "    }\n",
       "\n",
       "    .dataframe tbody tr th {\n",
       "        vertical-align: top;\n",
       "    }\n",
       "</style>\n",
       "<table border=\"1\" class=\"dataframe\">\n",
       "  <thead>\n",
       "    <tr style=\"text-align: right;\">\n",
       "      <th></th>\n",
       "      <th>Sport</th>\n",
       "      <th>Height</th>\n",
       "      <th>Weight</th>\n",
       "    </tr>\n",
       "    <tr>\n",
       "      <th>Name</th>\n",
       "      <th></th>\n",
       "      <th></th>\n",
       "      <th></th>\n",
       "    </tr>\n",
       "  </thead>\n",
       "  <tbody>\n",
       "    <tr>\n",
       "      <th>Chen Nan</th>\n",
       "      <td>Basketball</td>\n",
       "      <td>78</td>\n",
       "      <td>204</td>\n",
       "    </tr>\n",
       "  </tbody>\n",
       "</table>\n",
       "</div>"
      ],
      "text/plain": [
       "               Sport  Height  Weight\n",
       "Name                                \n",
       "Chen Nan  Basketball      78     204"
      ]
     },
     "execution_count": 70,
     "metadata": {},
     "output_type": "execute_result"
    }
   ],
   "source": [
    "athletes[1:2]"
   ]
  },
  {
   "cell_type": "markdown",
   "metadata": {},
   "source": [
    "we would repeat the exact same process. Wouldn't it be dreamy if Python could remember how to compute the bmi and we could just say to Python \"What is the BMI for someone who is 78 inches tall and weighs 204? Fortunately we can and that is where functions come into play. Let's say we want to write a function called `bmi`\n",
    "\n",
    "    def bmi(height, weight):\n",
    "    \n",
    "the `def` is required and means 'hey I am **def**ining a function with the name bmi.  `bmi` is the name we are going to give our function. It can be anything we like.  Once we define our function we are going to use it like:\n",
    "\n",
    "    bmi(72, 204)\n",
    "\n",
    "and\n",
    "\n",
    "    bmi(72, 162)\n",
    "    \n",
    "\n",
    "As we will see shortly, we need to give names to those numbers (72 and 204). The technical name for these is the argument name. Again, these names can be anything we want. So we currently have:\n",
    "\n",
    "    def bmi(height, weight):\n",
    "\n",
    "but it could be:\n",
    "\n",
    "    def bodyMassIndex(inches, pounds):\n",
    "    \n",
    "or\n",
    "\n",
    "    \n",
    "    def computerBMI(h, w):\n",
    "    \n",
    "    \n",
    "Let's stick with the first.  The required elements of the first line are the `def`, the parantheses, and the colon. Also, the function name is required but it can be anything we like. Let me finish the function definition and then I will explain it:\n",
    "\n",
    "\n",
    "    \n",
    "\n"
   ]
  },
  {
   "cell_type": "code",
   "execution_count": 71,
   "metadata": {
    "collapsed": true
   },
   "outputs": [],
   "source": [
    "def bmi(height, weight):\n",
    "    heightM = height * 0.0254\n",
    "    weightK = weight / 2.205\n",
    "    result = weightK / heightM**2\n",
    "    return result"
   ]
  },
  {
   "cell_type": "markdown",
   "metadata": {},
   "source": [
    "Here's how I translate that into English (sort of English)...\n",
    "\n",
    "    Here is how you bmi:\n",
    "      1. You get the height and the weight (the first argument you get will be called height, the second, weight)\n",
    "      2. You set heightM to height * 0.0254\n",
    "      3. You set the weightK to weight / 2.205\n",
    "      4. You set result t0 be weightK divided by the heightM squared.\n",
    "      5. You return the result.\n",
    "      \n",
    "To call (execute) the function you do:"
   ]
  },
  {
   "cell_type": "code",
   "execution_count": 73,
   "metadata": {},
   "outputs": [
    {
     "data": {
      "text/plain": [
       "21.967164115734125"
      ]
     },
     "execution_count": 73,
     "metadata": {},
     "output_type": "execute_result"
    }
   ],
   "source": [
    "bmi(72, 162)"
   ]
  },
  {
   "cell_type": "markdown",
   "metadata": {},
   "source": [
    "For Chen Nan"
   ]
  },
  {
   "cell_type": "code",
   "execution_count": 74,
   "metadata": {},
   "outputs": [
    {
     "data": {
      "text/plain": [
       "23.80137177036808"
      ]
     },
     "execution_count": 74,
     "metadata": {},
     "output_type": "execute_result"
    }
   ],
   "source": [
    "bmi(78, 206)"
   ]
  },
  {
   "cell_type": "markdown",
   "metadata": {},
   "source": [
    "### another example\n",
    "\n",
    "Remember in a previous notebook where we predicted the temperature based on cricket chirps? Here are the numpy arrays we had for the real temperature and our predictions:"
   ]
  },
  {
   "cell_type": "code",
   "execution_count": 76,
   "metadata": {
    "collapsed": true
   },
   "outputs": [],
   "source": [
    "realTemp = np.array([ 88.59999847,  71.59999847,  93.30000305,  84.30000305,\n",
    "        80.59999847,  75.19999695,  69.69999695,  82.        ,\n",
    "        69.40000153,  83.30000305,  79.59999847,  82.59999847,\n",
    "        80.59999847,  83.50000125,  76.30000305,  81.50055115,\n",
    "        68.36003334,  70.        ,  72.00011123,  86.67711113,\n",
    "        88.21000242,  84.05999912,  83.18999999,  77.30100011,\n",
    "        67.26666667,  62.72740003,  66.33333333,  77.81221677,  85.        ])\n",
    "\n",
    "predictions = np.array([ 90.79      ,  77.902     ,  90.14559755,  85.63479878,\n",
    "        81.44620122,  76.291     ,  73.71339939,  81.44620122,\n",
    "        75.96879878,  78.54640245,  74.68      ,  81.76840245,\n",
    "        77.902     ,  81.124     ,  72.74679878,  81.4462    ,\n",
    "        68.5582    ,  70.3303    ,  72.1024    ,  86.50474   ,\n",
    "        87.96323211,  87.60022   ,  83.08942   ,  78.30475   ,\n",
    "        68.236     ,  65.014     ,  66.59278   ,  71.815642  ,  83.0572    ])\n"
   ]
  },
  {
   "cell_type": "markdown",
   "metadata": {},
   "source": [
    "And from those numpy arrays we computed the average error. Let me convert that to a function:"
   ]
  },
  {
   "cell_type": "code",
   "execution_count": 78,
   "metadata": {
    "collapsed": true
   },
   "outputs": [],
   "source": [
    "def avg_error(actual, predicted):\n",
    "    errors = actual - predicted\n",
    "    absolute_errors = np.abs(errors)\n",
    "    return np.mean(absolute_errors)"
   ]
  },
  {
   "cell_type": "markdown",
   "metadata": {
    "collapsed": true
   },
   "source": [
    "And how I interpret it in psuedo English:\n",
    "\n",
    "Here is how you compute avg_error:\n",
    "\n",
    "1. You get the actual and predicted arrays -- those are the arguments\n",
    "2. You set `errors` to be the numpy array `actual` minus the numpy array `predicted`\n",
    "3. You set the `absolute_errors` to be the absolute values of `error`\n",
    "4. Finally, you return the mean of the array `absolute_errors`\n",
    "  \n",
    "  \n",
    "Let's see how this works:  "
   ]
  },
  {
   "cell_type": "code",
   "execution_count": 80,
   "metadata": {},
   "outputs": [
    {
     "data": {
      "text/plain": [
       "2.1513917641379305"
      ]
     },
     "execution_count": 80,
     "metadata": {},
     "output_type": "execute_result"
    }
   ],
   "source": [
    "avg_error(realTemp, predictions)"
   ]
  },
  {
   "cell_type": "markdown",
   "metadata": {},
   "source": [
    "So in guessing the temperature based on the number of cricket chirps we were on average 2 degrees off. So when Justin Bois asks us to complete the function:\n",
    "\n",
    "    def ecdf(data):\n",
    "        \"\"\"Compute ECDF for a one-dimensional array of measurements.\"\"\"\n",
    "        # Number of data points: n\n",
    "\n",
    "        # x-data for the ECDF: x\n",
    "\n",
    "        # y-data for the ECDF: y\n",
    "        ____ = ____(____, ____) / n\n",
    "\n",
    "        return x, y\n",
    "        \n",
    "He is asking us to finish the *this is how you compute ecdf* function. So to give you a bit more info. You need to finish the lines I am starting here:\n",
    "\n",
    "\n",
    "    def ecdf(data):\n",
    "        \"\"\"Compute ECDF for a one-dimensional array of measurements.\"\"\"\n",
    "        # Number of data points: n\n",
    "        n =\n",
    "\n",
    "        # x-data for the ECDF: x\n",
    "        x =\n",
    "\n",
    "        # y-data for the ECDF: y\n",
    "        y = ____(____, ____) / n\n",
    "\n",
    "        return x, y\n",
    "        \n",
    "One thing to note is that you return 2 things: `return x, y` so when we use it (aka *call it*) we can have 2 things to the left of the equal sign:\n",
    "\n",
    "    x_vers, y_vers = ecdf(versicolor_petal_length)\n",
    "    \n",
    "After the function we just wrote computes ecdf this line will store the x and y values in `x_vers` and `y_vers` respectively.\n",
    "\n",
    "\n",
    "\n",
    "\n",
    "# Chapter 2: Quantitative exploratory data analysis\n",
    "\n",
    "I am hoping you will find this section a bit easier. In previous notebooks we already worked with the mean and median, so let's jump to his section on ...\n",
    "\n",
    "## Percentiles, Outliers, and Box Plots\n",
    "\n",
    "### Computing precentiles\n",
    "Here's an example:\n"
   ]
  },
  {
   "cell_type": "code",
   "execution_count": 81,
   "metadata": {},
   "outputs": [
    {
     "data": {
      "text/plain": [
       "array([ 37.3025,  43.185 ,  49.925 ])"
      ]
     },
     "execution_count": 81,
     "metadata": {},
     "output_type": "execute_result"
    }
   ],
   "source": [
    "np.percentile(df_swing['dem_share'], [25, 50, 75])"
   ]
  },
  {
   "cell_type": "markdown",
   "metadata": {},
   "source": [
    "The second argument`[25, 50, 75]` represents the percentile we want -- in this case the 25th percentile, the 50th, and the 75th.  A common way to visualize these percentiles is with ...\n",
    "\n",
    "\n",
    "### The Box Plot\n",
    "\n",
    "<img src=\"http://zacharski.org/files/courses/data101/box.png\" width=\"700\" />\n",
    "\n",
    "\n",
    "Here is what you need to know:\n",
    "\n",
    "* the center of the box is the median.\n",
    "* the bottom of the box is the 25th percentile and the top is the 75th.\n",
    "* the entire box represents the middle 50% of the data  - this is called the **inter quartile range** or IQR.\n",
    "* the whiskers represent either 1.5 times the IQR or the entire range of the data.\n",
    "* anything outside the whiskers is considered an outlier.\n",
    "\n",
    "Here is how to generate a box plot:\n",
    "\n"
   ]
  },
  {
   "cell_type": "code",
   "execution_count": 83,
   "metadata": {},
   "outputs": [
    {
     "data": {
      "image/png": "[encoded data removed]",
      "text/plain": [
       "<matplotlib.figure.Figure at 0x11c0cd390>"
      ]
     },
     "metadata": {},
     "output_type": "display_data"
    }
   ],
   "source": [
    "# First I will load the data\n",
    "datafile = 'http://zacharski.org/files/courses/data101/2008_all_states.csv'\n",
    "\n",
    "df_all_states = pd.read_csv(datafile)\n",
    "sns.boxplot(x='east_west', y='dem_share', data=df_all_states)\n",
    "plt.xlabel('region')\n",
    "plt.ylabel('% vote for Obama')\n",
    "plt.show()"
   ]
  },
  {
   "cell_type": "markdown",
   "metadata": {},
   "source": [
    "I found the course page *Comparing percentiles to ECDF*. It actually lists (on the left) everything you need to insert into the code.  \n",
    "\n",
    "## Variance and standard deviation\n",
    "\n",
    "The formula for variance is\n",
    "\n",
    "### $$variance=\\frac{1}{n}\\sum_{i=1}^n(x_i-\\bar{x})^2 $$\n",
    "\n",
    "\n",
    "Are you one of those people who skip over formulas? If so, divert your eyes back to that formula and lets parse that out. First we need some data. On the first day of class we rated some musical artists. Here are 2 and their ratings from 5 people:\n",
    "\n",
    "artist | Ann | Ben | Clara |Dan | Enric\n",
    " :--: | :--: | :--: | :--: | :--: | :--: |\n",
    " Brad Paisley | 2 | 1 | 4 | 5 | 5\n",
    " Bruno Mars | 4 | 3 | 3 | 4 | 3\n",
    " \n",
    " Brad Paisley and Bruno Mars have the same average rating, 3.4, so you might argue that they are equally liked by people in the class. But if you look at the table you can see that either people loved Brad Paisley or hated him-- there weren't many meh people. On the other hand most people thought Bruno Mars was ok. There weren't many people that hated Bruno Mars.  This difference is hard to see in a large dataset and that is where variance and standard deviation help us. Let's compute Brad Paisley's variance by hand.\n",
    " \n",
    " ### $$variance=\\frac{1}{n}\\sum_{i=1}^n(x_i-\\bar{x})^2 $$\n",
    "\n",
    "The $\\bar{x}$ means the average, which we determined to be 3.4 so the formula becomes:\n",
    "\n",
    "### $$variance=\\frac{1}{n}\\sum_{i=1}^n(x_i-3.4)^2 $$\n",
    "\n",
    "So I need to subtract the average (3.4) from each of Brad Paisley's ratings:\n",
    "\n",
    "artist | Ann | Ben | Clara |Dan | Enric\n",
    " :--: | :--: | :--: | :--: | :--: | :--: |\n",
    " Brad Paisley | 2 | 1 | 4 | 5 | 5\n",
    " average| 3.4 | 3.4 |3.4 |3.4 |3.4 \n",
    "Brad - avg | -1.4 | -2.4 | 0.6 | 1.6 | 1.6\n",
    "\n",
    "\n",
    "So that is the \n",
    "\n",
    "### $$(x_i-3.4) $$\n",
    "\n",
    "bit. Next we need to square each of those:\n",
    "\n",
    "artist | Ann | Ben | Clara |Dan | Enric\n",
    " :--: | :--: | :--: | :--: | :--: | :--: |\n",
    " Brad Paisley | 2 | 1 | 4 | 5 | 5\n",
    " average| 3.4 | 3.4 |3.4 |3.4 |3.4 \n",
    "Brad - avg | -1.4 | -2.4 | 0.6 | 1.6 | 1.6\n",
    "Squared | 1.96 | 5.76 | 0.36 | 2.56 | 2.56\n",
    "\n",
    "\n",
    "That's the \n",
    "\n",
    "### $$(x_i-3.4)^2 $$\n",
    "\n",
    "bit.\n",
    "\n",
    "Next we add all those squares up:\n",
    "\n",
    "#### $$1.96+5.76+0.36+2.56+2.56=13.2$$\n",
    "\n",
    "\n",
    "That's the \n",
    "\n",
    "### $$\\sum_{i=1}^n(x_i-3.4)^2 $$\n",
    "\n",
    "bit.\n",
    "\n",
    "And now we just divide that by the number of ratings in our dataset, 5 and that gives us\n",
    "\n",
    "\n",
    "#### $$variance = \\frac{1}{5}(13.2) = 2.64 $$\n",
    "\n",
    "That was a bit of work but at least there is no mystery left in that formula. The"
   ]
  },
  {
   "cell_type": "markdown",
   "metadata": {
    "collapsed": true
   },
   "source": [
    "## Computing the Pearson correlation coefficient\n",
    "In this section he asks you to define a function. We covered functions above, but let me give you some hints.  He gives you the following template:\n",
    "\n",
    "\n",
    "    def ____(____, ____):\n",
    "        \"\"\"Compute Pearson correlation coefficient between two arrays.\"\"\"\n",
    "        # Compute correlation matrix: corr_mat\n",
    "\n",
    "\n",
    "        # Return entry [0,1]\n",
    "        return corr_mat[0,1]\n",
    "\n",
    "        # Compute Pearson correlation coefficient for I. versicolor: r\n",
    "\n",
    "\n",
    "        # Print the result\n",
    "\n",
    "\n",
    "In the notes he gives you the first line to fill in:\n",
    "\n",
    "    def pearson_r(x, y):\n",
    "    \n",
    "Remember, that this line 'tells' the computer \n",
    "\n",
    "#### This is how you compute pearson_r:\n",
    "\n",
    "1. you are given x and y as arguments.\n",
    "\n",
    "In addition to this line, you need to add one more line to the function -- one that begins `corr_mat = `\n",
    "\n",
    "Next, under the `# Compute Pearson correlation coefficient for I. versicolor: r` you are asked to call the function you just created.  So for example, if we had a np.array `height` with the heights of gymnasts and `weight` with their weights and we wanted to compute the Pearson correlation coefficient between them, we might do:\n",
    "\n",
    "    r = pearson_r(height, weight)\n",
    "    "
   ]
  },
  {
   "cell_type": "code",
   "execution_count": null,
   "metadata": {
    "collapsed": true
   },
   "outputs": [],
   "source": []
  }
 ],
 "metadata": {
  "kernelspec": {
   "display_name": "Python 3",
   "language": "python",
   "name": "python3"
  },
  "language_info": {
   "codemirror_mode": {
    "name": "ipython",
    "version": 3
   },
   "file_extension": ".py",
   "mimetype": "text/x-python",
   "name": "python",
   "nbconvert_exporter": "python",
   "pygments_lexer": "ipython3",
   "version": "3.6.1"
  }
 },
 "nbformat": 4,
 "nbformat_minor": 2
}
